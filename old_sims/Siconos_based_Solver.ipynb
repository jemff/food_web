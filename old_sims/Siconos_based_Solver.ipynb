{
 "cells": [
  {
   "cell_type": "code",
   "execution_count": 1,
   "metadata": {},
   "outputs": [],
   "source": [
    "import sys"
   ]
  },
  {
   "cell_type": "code",
   "execution_count": 2,
   "metadata": {},
   "outputs": [
    {
     "data": {
      "text/plain": [
       "['/home/jaem/projects/food_web',\n",
       " '/home/jaem/anaconda3/lib/python37.zip',\n",
       " '/home/jaem/anaconda3/lib/python3.7',\n",
       " '/home/jaem/anaconda3/lib/python3.7/lib-dynload',\n",
       " '',\n",
       " '/home/jaem/anaconda3/lib/python3.7/site-packages',\n",
       " '/home/jaem/anaconda3/lib/python3.7/site-packages/lemkelcp-0.1-py3.7.egg',\n",
       " '/home/jaem/anaconda3/lib/python3.7/site-packages/IPython/extensions',\n",
       " '/home/jaem/.ipython']"
      ]
     },
     "execution_count": 2,
     "metadata": {},
     "output_type": "execute_result"
    }
   ],
   "source": [
    "sys.path"
   ]
  },
  {
   "cell_type": "code",
   "execution_count": null,
   "metadata": {},
   "outputs": [],
   "source": [
    "numerics_module = importlib.util.module_from_spec(spec)\n",
    "\n",
    "import numpy as np"
   ]
  },
  {
   "cell_type": "code",
   "execution_count": null,
   "metadata": {},
   "outputs": [],
   "source": [
    "M = np.array([[2., 1.],\n",
    "              [1., 2.]])\n",
    "\n",
    "q = np.array([-5., -6.])\n",
    "\n",
    "# solution\n",
    "zsol = np.array([4. / 3., 7. / 3.])\n",
    "wsol = np.array([0., 0.])\n",
    "\n",
    "# problem\n",
    "lcp = numerics_module.LCP(M, q)\n"
   ]
  }
 ],
 "metadata": {
  "kernelspec": {
   "display_name": "Python 3",
   "language": "python",
   "name": "python3"
  },
  "language_info": {
   "codemirror_mode": {
    "name": "ipython",
    "version": 3
   },
   "file_extension": ".py",
   "mimetype": "text/x-python",
   "name": "python",
   "nbconvert_exporter": "python",
   "pygments_lexer": "ipython3",
   "version": "3.7.3"
  }
 },
 "nbformat": 4,
 "nbformat_minor": 2
}
