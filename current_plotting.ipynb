{
 "cells": [
  {
   "cell_type": "code",
   "execution_count": 1,
   "metadata": {},
   "outputs": [],
   "source": [
    "from food_web_core.utility_functions import *\n",
    "from food_web_core.size_based_ecosystem import *\n",
    "import imageio\n",
    "from mpl_toolkits.axes_grid1 import ImageGrid"
   ]
  },
  {
   "cell_type": "code",
   "execution_count": 2,
   "metadata": {},
   "outputs": [],
   "source": [
    "from scipy.special import lambertw\n",
    "def detection_dist(light, k, K, c):\n",
    "    return np.real(2*lambertw(k/2* np.sqrt(light/c*(K+light)))/k)"
   ]
  },
  {
   "cell_type": "code",
   "execution_count": 3,
   "metadata": {},
   "outputs": [],
   "source": [
    "tz = 'Europe/Vatican'\n",
    "name = 'Oresund'\n",
    "start_date = '2014-04-01'\n",
    "end_date = '2014-10-01'\n",
    "freq = '15Min'"
   ]
  },
  {
   "cell_type": "code",
   "execution_count": 4,
   "metadata": {},
   "outputs": [],
   "source": [
    "def sketch_plotter(eco, strats, resources, time):\n",
    "    day_interval = 96\n",
    "    fig, ax = plt.subplots(1,1,)\n",
    "    \n",
    "    ax.fill_between(0.5*strats[time][0]@eco.heat_kernels[0], 2*eco.spectral.x, y2 = 0, alpha = 0.5, color = 'blue')\n",
    "    ax.fill_between(0.5*strats[time][1]@eco.heat_kernels[0], 2*eco.spectral.x, y2 = 0, alpha = 0.5, color = 'red')\n",
    "    ax.fill_between(0.5*resources, 2*eco.spectral.x, y2 = 0, alpha = 0.5, color = 'yellow')\n",
    "\n",
    "    ax.set_xlabel(\"Depth in m\")\n",
    "    ax.set_ylim((0, 25))\n",
    "    ax.xaxis.set_major_locator(plt.MultipleLocator(30))\n",
    "    ax.set_ylabel(\"\\% of biomass\")\n",
    "    fig.tight_layout()\n",
    "    plt.savefig(\"sketch_for_article\" + \".pdf\")"
   ]
  },
  {
   "cell_type": "code",
   "execution_count": 5,
   "metadata": {},
   "outputs": [],
   "source": [
    "dates = pd.date_range(start=start_date, end=end_date, freq=freq, tz=tz)"
   ]
  },
  {
   "cell_type": "code",
   "execution_count": 6,
   "metadata": {},
   "outputs": [],
   "source": [
    "def dist_plotter(eco, strats, times, filename = None):\n",
    "    day_interval = 96\n",
    "    fig, ax = plt.subplots(1,len(times), sharex='col', sharey = 'row')\n",
    "    fig.set_size_inches((12/2.54, 6/2.54))\n",
    "    \n",
    "    new_vec = np.linspace(0,45,200)\n",
    "\n",
    "    \n",
    "    for i, time in enumerate(times):\n",
    "        ax[i].fill_between(0.5*strats[time][0]@eco.heat_kernels[0], 2*eco.spectral.x, y2 = 0, alpha = 0.5, color = 'blue')\n",
    "        ax[i].fill_between(0.5*strats[time][1]@eco.heat_kernels[0], 2*eco.spectral.x, y2 = 0, alpha = 0.5, color = 'red')\n",
    "        ax[i].set_xlabel(\"(\"+str(i+1)+\")\"+\" Depth in m\")\n",
    "        ax[i].set_ylim((0, 20))\n",
    "        ax[i].xaxis.set_major_locator(plt.MultipleLocator(30))\n",
    "    ax[0].set_ylabel(\"\\% of biomass\")\n",
    "    fig.tight_layout()\n",
    "    plt.savefig(\"specific_dists_\" + filename + \".pdf\")"
   ]
  },
  {
   "cell_type": "code",
   "execution_count": 7,
   "metadata": {},
   "outputs": [],
   "source": [
    "new_spectral = spectral_method(30, 200)"
   ]
  },
  {
   "cell_type": "code",
   "execution_count": 8,
   "metadata": {},
   "outputs": [],
   "source": [
    "def expander(old_spectral, new_spectral, transform_vec):\n",
    "    length = old_spectral.x[-1]\n",
    "    coeffs = np.linalg.inv(old.spectral.JacobiP_n(2*old_spectral.x/length - 1, 0, 0, old_spectral.n).T) @ transform_vec\n",
    "    transformer = new_spectral.JacobiP_n(2*new_spectral.x/new_spectral.x[-1] - 1, 0, 0, old_spectral.n).T\n",
    "    return transformer @ coeffs"
   ]
  },
  {
   "cell_type": "code",
   "execution_count": 9,
   "metadata": {},
   "outputs": [],
   "source": [
    "solar_levels = solar_input_calculator()\n",
    "solar_levels = solar_levels/np.max(solar_levels)"
   ]
  },
  {
   "cell_type": "code",
   "execution_count": 10,
   "metadata": {},
   "outputs": [],
   "source": [
    "def interpolater(spectral, new_points, transform_vec):\n",
    "    length = spectral.x[-1]\n",
    "    coeffs = np.linalg.inv(spectral.JacobiP_n(2*spectral.x/length - 1, 0, 0, spectral.n).T) @ transform_vec\n",
    "    transformer = spectral.JacobiP_n(2*new_points/new_points[-1] - 1, 0, 0, spectral.n).T\n",
    "    return transformer @ coeffs"
   ]
  },
  {
   "cell_type": "code",
   "execution_count": 11,
   "metadata": {},
   "outputs": [],
   "source": [
    "import matplotlib.pyplot as plt\n",
    "import pickle as pkl\n",
    "import imageio as imageio\n",
    "frames_path = \"images/images\" + \"{i}.jpg\"\n",
    "gif_path = \"images/test_gif.gif\""
   ]
  },
  {
   "cell_type": "code",
   "execution_count": 12,
   "metadata": {},
   "outputs": [],
   "source": [
    "def data_extractor(filenames, path = 'data/'):\n",
    "    strategies = []\n",
    "    populations = []\n",
    "    eco = []\n",
    "    resources = []\n",
    "    for text in filenames:\n",
    "        with open(path + text + 'strategies' +  '.pkl', 'rb') as f:\n",
    "            strategies.append(np.array(pkl.load(f)))\n",
    "        with open(path + text + 'population' +  '.pkl', 'rb') as f:\n",
    "            populations.append(np.array(pkl.load(f)))\n",
    "        with open(path + text + 'eco' +  '.pkl', 'rb') as f:\n",
    "            eco.append(pkl.load(f))\n",
    "        with open(path + text + 'resource' +  '.pkl', 'rb') as f:\n",
    "            resources.append(np.array(pkl.load(f)))\n",
    "    populations[0] = np.array(populations[0])\n",
    "    populations[1] = np.array(populations[1])\n",
    "    populations[2] = np.array(populations[2])\n",
    "\n",
    "    strategies[0] = np.array(strategies[0])\n",
    "    strategies[1] = np.array(strategies[1])\n",
    "    strategies[2] = np.array(strategies[2])\n",
    "    \n",
    "    \n",
    "    resources[0] = np.array(resources[0])\n",
    "    resources[1] = np.array(resources[1])\n",
    "    resources[2] = np.array(resources[2])\n",
    "    return strategies, populations, resources, eco\n"
   ]
  },
  {
   "cell_type": "code",
   "execution_count": 13,
   "metadata": {},
   "outputs": [],
   "source": [
    "filenames = ['non_random_oresund', 'more_random_oresund', 'completely_random_oresund']"
   ]
  },
  {
   "cell_type": "code",
   "execution_count": 14,
   "metadata": {},
   "outputs": [],
   "source": [
    "strategies, populations, resources, ecos = data_extractor(filenames)"
   ]
  },
  {
   "cell_type": "code",
   "execution_count": 15,
   "metadata": {},
   "outputs": [],
   "source": [
    "A = np.zeros((ecos[0].populations.size, ecos[0].populations.size * ecos[0].layers))\n",
    "for k in range(ecos[0].populations.size):\n",
    "    A[k, k * ecos[0].layers:(k + 1) * ecos[0].layers] = -1\n"
   ]
  },
  {
   "cell_type": "code",
   "execution_count": 16,
   "metadata": {},
   "outputs": [],
   "source": [
    "payoff_matrix = total_payoff_matrix_builder(ecos[0])"
   ]
  },
  {
   "cell_type": "code",
   "execution_count": 17,
   "metadata": {},
   "outputs": [],
   "source": [
    "H = np.block([[-payoff_matrix, A.T], [-A, np.zeros((A.shape[0], ecos[0].populations.size))]])\n"
   ]
  },
  {
   "cell_type": "code",
   "execution_count": 18,
   "metadata": {},
   "outputs": [
    {
     "data": {
      "text/plain": [
       "array([ 8.40492845e+05  +0.j        , -7.22892857e-11+290.47550885j,\n",
       "       -7.22892857e-11-290.47550885j,  4.83487575e+01+263.94811828j,\n",
       "        4.83487575e+01-263.94811828j,  1.17460058e+02  +0.j        ,\n",
       "        1.05537246e-11 +47.193843j  ,  1.05537246e-11 -47.193843j  ,\n",
       "        1.05665298e+00 +43.74154804j,  1.05665298e+00 -43.74154804j,\n",
       "        2.96840330e-12 +26.26133777j,  2.96840330e-12 -26.26133777j,\n",
       "        1.07451974e-01 +24.94235734j,  1.07451974e-01 -24.94235734j,\n",
       "       -8.03858369e-12 +18.23457618j, -8.03858369e-12 -18.23457618j,\n",
       "       -4.71934087e-02 +17.52765543j, -4.71934087e-02 -17.52765543j,\n",
       "        5.52992374e-12 +13.99799317j,  5.52992374e-12 -13.99799317j,\n",
       "       -8.49898133e-02 +13.55120511j, -8.49898133e-02 -13.55120511j,\n",
       "       -2.85632629e-13 +11.38582102j, -2.85632629e-13 -11.38582102j,\n",
       "       -9.44125581e-02 +11.07471593j, -9.44125581e-02 -11.07471593j,\n",
       "       -8.29281088e-13  +9.61860304j, -8.29281088e-13  -9.61860304j,\n",
       "       -9.53906933e-02  +9.38793345j, -9.53906933e-02  -9.38793345j,\n",
       "       -7.11583570e-13  +8.34695766j, -7.11583570e-13  -8.34695766j,\n",
       "       -9.38229085e-02  +8.16845447j, -9.38229085e-02  -8.16845447j,\n",
       "        1.77616602e-13  +7.39092004j,  1.77616602e-13  -7.39092004j,\n",
       "       -9.17680510e-02  +7.24869191j, -9.17680510e-02  -7.24869191j,\n",
       "        1.21418500e-12  +6.64836991j,  1.21418500e-12  -6.64836991j,\n",
       "       -9.00487145e-02  +6.53294204j, -9.00487145e-02  -6.53294204j,\n",
       "       -1.55386121e-13  +6.05706299j, -1.55386121e-13  -6.05706299j,\n",
       "       -8.90779011e-02  +5.96268533j, -8.90779011e-02  -5.96268533j,\n",
       "       -4.61941249e-12  +5.57691211j, -4.61941249e-12  -5.57691211j,\n",
       "       -8.91973286e-02  +5.50039148j, -8.91973286e-02  -5.50039148j,\n",
       "        8.90911321e-01  +0.j        ,  7.13738181e-05  +0.j        ,\n",
       "        3.07624759e-12  +5.18094677j,  3.07624759e-12  -5.18094677j,\n",
       "       -9.04253861e-02  +5.12156868j, -9.04253861e-02  -5.12156868j,\n",
       "       -7.46590290e-13  +4.85036663j, -7.46590290e-13  -4.85036663j,\n",
       "       -9.09056648e-02  +4.81032633j, -9.09056648e-02  -4.81032633j,\n",
       "        2.05292380e-13  +2.13048754j,  2.05292380e-13  -2.13048754j,\n",
       "        3.20595113e-12  +4.57167789j,  3.20595113e-12  -4.57167789j,\n",
       "       -8.54737271e-02  +4.55388844j, -8.54737271e-02  -4.55388844j,\n",
       "       -7.04856954e-02  +4.33558635j, -7.04856954e-02  -4.33558635j,\n",
       "       -2.17640489e-12  +4.33495662j, -2.17640489e-12  -4.33495662j,\n",
       "       -5.22274496e-02  +4.14186143j, -5.22274496e-02  -4.14186143j,\n",
       "       -3.69710165e-12  +4.13275373j, -3.69710165e-12  -4.13275373j,\n",
       "       -3.70648817e-02  +3.96987046j, -3.70648817e-02  -3.96987046j,\n",
       "       -1.01267952e-12  +3.95938117j, -1.01267952e-12  -3.95938117j,\n",
       "       -2.58872798e-02  +3.81928254j, -2.58872798e-02  -3.81928254j,\n",
       "       -1.57642302e-12  +3.81043332j, -1.57642302e-12  -3.81043332j,\n",
       "       -1.78143239e-02  +3.68872524j, -1.78143239e-02  -3.68872524j,\n",
       "       -7.08499232e-13  +3.68245801j, -7.08499232e-13  -3.68245801j,\n",
       "       -1.19942134e-02  +3.57640688j, -1.19942134e-02  -3.57640688j,\n",
       "        1.31352568e-12  +3.57272567j,  1.31352568e-12  -3.57272567j,\n",
       "       -7.85835647e-03  +3.48065134j, -7.85835647e-03  -3.48065134j,\n",
       "       -5.87581199e-13  +3.47906422j, -5.87581199e-13  -3.47906422j,\n",
       "       -5.03010388e-03  +3.39997913j, -5.03010388e-03  -3.39997913j,\n",
       "       -5.77492915e-13  +3.39973929j, -5.77492915e-13  -3.39973929j,\n",
       "       -3.18228857e-03  +3.33298617j, -3.18228857e-03  -3.33298617j,\n",
       "        3.88907656e-14  +3.33336606j,  3.88907656e-14  -3.33336606j,\n",
       "        2.96490263e-14  +3.27884399j,  2.96490263e-14  -3.27884399j,\n",
       "       -1.98341976e-03  +3.27832616j, -1.98341976e-03  -3.27832616j,\n",
       "       -1.18012562e-03  +3.23487652j, -1.18012562e-03  -3.23487652j,\n",
       "       -6.45395738e-15  +3.23530804j, -6.45395738e-15  -3.23530804j,\n",
       "        5.23019128e-16  +3.17870425j,  5.23019128e-16  -3.17870425j,\n",
       "        8.70917921e-15  +3.20209251j,  8.70917921e-15  -3.20209251j,\n",
       "       -6.32047766e-04  +3.2018148j , -6.32047766e-04  -3.2018148j ,\n",
       "       -2.72024018e-04  +3.17857126j, -2.72024018e-04  -3.17857126j,\n",
       "       -3.99170714e-15  +3.16480371j, -3.99170714e-15  -3.16480371j,\n",
       "       -6.67641039e-05  +3.16476914j, -6.67641039e-05  -3.16476914j])"
      ]
     },
     "execution_count": 18,
     "metadata": {},
     "output_type": "execute_result"
    }
   ],
   "source": [
    "np.linalg.eig(H)[0]"
   ]
  },
  {
   "cell_type": "code",
   "execution_count": 19,
   "metadata": {},
   "outputs": [],
   "source": [
    "interpolated = interpolater(ecos[0].spectral, np.linspace(0,45,100), strategies[0][13000][0]@ecos[0].heat_kernels[0])"
   ]
  },
  {
   "cell_type": "code",
   "execution_count": 20,
   "metadata": {},
   "outputs": [],
   "source": [
    "\n",
    "plt.rc('text', usetex=True)\n",
    "plt.rc('font', family='serif')\n",
    "plt.rc('font', size = 10)\n",
    "# These are the \"Tableau 20\" colors as RGB.\n",
    "tableau20 = [(31, 119, 180), (174, 199, 232), (255, 127, 14), (255, 187, 120), \n",
    "             (44, 160, 44), (152, 223, 138), (214, 39, 40), (255, 152, 150), \n",
    "             (148, 103, 189), (197, 176, 213), (140, 86, 75), (196, 156, 148), \n",
    "             (227, 119, 194), (247, 182, 210), (127, 127, 127), (199, 199, 199), \n",
    "             (188, 189, 34), (219, 219, 141), (23, 190, 207), (158, 218, 229)]\n",
    "\n",
    "for i in range(len(tableau20)):\n",
    "    r, g, b = tableau20[i]\n",
    "    tableau20[i] = (r / 255., g / 255., b / 255.)\n",
    "\n"
   ]
  },
  {
   "cell_type": "code",
   "execution_count": 21,
   "metadata": {},
   "outputs": [],
   "source": [
    "import matplotlib.colorbar\n",
    "def heatmap_plotter(data, image_name, ext, sigmas = [\"0\", \"10\", \"$\\infty$\"]):\n",
    "    fig = plt.figure(figsize=(12/2.54, 12/2.54))\n",
    "    times = [\"12 \", \"18\", \"24\", \"06\", \"12\"]\n",
    "\n",
    "    grid = ImageGrid(fig, 111,  # as in plt.subplot(111)\n",
    "                     nrows_ncols=(1, len(data)),\n",
    "                     axes_pad=0.15,\n",
    "                     share_all=True,\n",
    "                     cbar_location=\"right\",\n",
    "                     cbar_mode=\"single\",\n",
    "                     cbar_size=\"5%\",\n",
    "                     cbar_pad=0.05,\n",
    "                     \n",
    "                     )\n",
    "\n",
    "    # Add data to image grid\n",
    "    i = 0\n",
    "    for ax in grid:\n",
    "        im = ax.imshow(data[i], vmin=0, cmap='viridis', extent=ext)\n",
    "        x0, x1 = ax.get_xlim()\n",
    "        y0, y1 = ax.get_ylim()\n",
    "        ax.set_aspect((x1 - x0) / (y1 - y0))\n",
    "        ax.set_xlabel(\"(\" + str(i+1) + \") \" + \"$\\sigma$ = \" + sigmas[i] + \" m$^2$\")\n",
    "        ax.set_ylabel(\"Depth (m)\")\n",
    "        ax.set_xticks([-12,-6, 0, 6, 12]) #xaxis.set_major_locator(plt.MultipleLocator(4))\n",
    "        ax.set_xticklabels(times)\n",
    "\n",
    "        i += 1\n",
    "    \n",
    "    # Colorbar\n",
    "    #ax.cax.colorbar(im)\n",
    "    #thecb = #ax.cax.colorbar(im)\n",
    "    ax.cax.cla() \n",
    "    thecb = matplotlib.colorbar.Colorbar(ax.cax,im)\n",
    "    #thecb.set_labelpad(15)\n",
    "    thecb.set_label(\"\\% of biomass\", rotation = 270, labelpad = 12)\n",
    "    ax.cax.toggle_label(True)\n",
    "    #ax.cax.set_label('\\% of biomass')\n",
    "    #plt.tight_layout()    # Works, but may still require rect paramater to keep colorbar labels visible\n",
    "    #fig.colorbar(im, cax=cax)\n",
    "\n",
    "    plt.savefig(image_name+\".pdf\", bbox_inches='tight')\n",
    "\n",
    "def bigge_heatmap_plotter(day, eco, strategy_data, fineness = 100, filename = None):\n",
    "    day_interval = 96\n",
    "    day = int(day*day_interval)\n",
    "    new_vec = np.linspace(0,45,fineness)\n",
    "    HM_C = np.zeros((fineness, 96))\n",
    "    HM_P = np.zeros((fineness, 96))\n",
    "    for i in range(day,day+day_interval):\n",
    "        HM_C[:, i-(day)] = interpolater(eco.spectral, new_vec, 100*strategy_data[i][0]@eco.heat_kernels[0])\n",
    "        HM_P[:, i-(day)] = interpolater(eco.spectral, new_vec, 100*strategy_data[i][1]@eco.heat_kernels[0])\n",
    "    heatmap_plotter([HM_C, HM_P], \"heatmaps\" + filename , [-12, 12, -90, 0])\n"
   ]
  },
  {
   "cell_type": "code",
   "execution_count": 22,
   "metadata": {},
   "outputs": [
    {
     "data": {
      "text/plain": [
       "'\\\\sigma'"
      ]
     },
     "execution_count": 22,
     "metadata": {},
     "output_type": "execute_result"
    }
   ],
   "source": [
    "\"\\sigma\""
   ]
  },
  {
   "cell_type": "code",
   "execution_count": 23,
   "metadata": {},
   "outputs": [
    {
     "data": {
      "image/png": "[encoded data removed]",
      "text/plain": [
       "<Figure size 432x288 with 1 Axes>"
      ]
     },
     "metadata": {
      "needs_background": "light"
     },
     "output_type": "display_data"
    }
   ],
   "source": [
    "time = 96*10+48\n",
    "normalized_resources = resources[0][time]/np.sum(ecos[0].spectral.M @ resources[0][time])\n",
    "sketch_plotter(ecos[0], 100*strategies[0], 100*normalized_resources, int(time))"
   ]
  },
  {
   "cell_type": "code",
   "execution_count": 24,
   "metadata": {},
   "outputs": [
    {
     "data": {
      "image/png": "[encoded data removed]",
      "text/plain": [
       "<Figure size 340.157x170.079 with 3 Axes>"
      ]
     },
     "metadata": {
      "needs_background": "light"
     },
     "output_type": "display_data"
    }
   ],
   "source": [
    "time = np.linspace(0, int(populations[0].shape[0]/96), populations[0].shape[0])\n",
    "\n",
    "\n",
    "length_of_months = [0, 31, 30+31, 31+31+30, 31+31+31+30, 30+ 31+31+31+30, 31+31+31+30+31+29]\n",
    "fig, ax = plt.subplots(1, 3, sharex='col', sharey = 'row')\n",
    "fig.set_size_inches((12/2.54, 6/2.54))\n",
    "\n",
    "ax[0].plot(time, np.log10(populations[0][:,0]), color = tableau20[0], label = '20g fish')\n",
    "ax[0].plot(time, np.log10(populations[0][:,1]), color = tableau20[6], label = '8000g fish')\n",
    "ax[0].set_xticks(length_of_months)\n",
    "ax[0].set_xticklabels(['A','M','J','J', 'A', 'S', 'O'])\n",
    "\n",
    "\n",
    "ax[1].plot(time, np.log10(populations[1][:,0]), color = tableau20[0], label = '20g fish')\n",
    "ax[1].plot(time, np.log10(populations[1][:,1]), color = tableau20[6], label = '8000g fish')\n",
    "ax[1].set_xticks(length_of_months)\n",
    "ax[1].set_xticklabels(['A','M','J','J', 'A', 'S', 'O'])\n",
    "\n",
    "\n",
    "ax[2].plot(time, np.log10(populations[2][:,0]), color = tableau20[0], label = '20g fish')\n",
    "ax[2].plot(time, np.log10(populations[2][:,1]), color = tableau20[6], label = '8000g fish')\n",
    "ax[2].set_xticks(length_of_months)\n",
    "ax[2].set_xticklabels(['A','M','J','J', 'A', 'S', 'O'])\n",
    "\n",
    "\n",
    "ax[0].plot(time, np.log10(ecos[0].spectral.M.sum(axis = 1) @ resources[0].T), color = tableau20[8])\n",
    "ax[1].plot(time, np.log10(ecos[0].spectral.M.sum(axis = 1) @ resources[1].T), color = tableau20[8])\n",
    "ax[2].plot(time, np.log10(ecos[0].spectral.M.sum(axis = 1) @ resources[2].T), color = tableau20[8])\n",
    "ax[2].set_xticks(length_of_months)\n",
    "ax[2].set_xticklabels(['A','M','J','J', 'A', 'S', 'O'])\n",
    "\n",
    "\n",
    "ax[0].set_ylabel(\"Log$_{10}$(biomass)\")\n",
    "ax[0].set_xlabel(\"(1) $\\sigma=0$ m$^2$\")\n",
    "ax[1].set_xlabel(\"(2) $\\sigma=10$ m$^2$\")\n",
    "ax[2].set_xlabel(\"(3) $\\sigma=\\infty$ m$^2$\")\n",
    "fig.tight_layout()\n",
    "plt.savefig(\"populations.pdf\")"
   ]
  },
  {
   "cell_type": "code",
   "execution_count": null,
   "metadata": {},
   "outputs": [],
   "source": []
  },
  {
   "cell_type": "code",
   "execution_count": null,
   "metadata": {},
   "outputs": [],
   "source": []
  },
  {
   "cell_type": "code",
   "execution_count": 25,
   "metadata": {},
   "outputs": [
    {
     "data": {
      "image/png": "[encoded data removed]",
      "text/plain": [
       "<Figure size 340.157x170.079 with 3 Axes>"
      ]
     },
     "metadata": {
      "needs_background": "light"
     },
     "output_type": "display_data"
    },
    {
     "data": {
      "image/png": "[encoded data removed]",
      "text/plain": [
       "<Figure size 340.157x170.079 with 3 Axes>"
      ]
     },
     "metadata": {
      "needs_background": "light"
     },
     "output_type": "display_data"
    }
   ],
   "source": [
    "dist_plotter(ecos[0], 100*strategies[0], [96*179+48, 96*179+75, 96*180], filename = \"rational\")\n",
    "dist_plotter(ecos[1], 100*strategies[1], [96*179+48, 96*179+75, 96*180], filename = \"semi_rational\")\n"
   ]
  },
  {
   "cell_type": "code",
   "execution_count": 26,
   "metadata": {},
   "outputs": [
    {
     "data": {
      "text/plain": [
       "array([ 0.23579379, 21.40560409])"
      ]
     },
     "execution_count": 26,
     "metadata": {},
     "output_type": "execute_result"
    }
   ],
   "source": [
    "ecos[0].parameters.loss_term"
   ]
  },
  {
   "cell_type": "code",
   "execution_count": 27,
   "metadata": {},
   "outputs": [
    {
     "data": {
      "text/plain": [
       "[<matplotlib.lines.Line2D at 0x7faca9bbef10>]"
      ]
     },
     "execution_count": 27,
     "metadata": {},
     "output_type": "execute_result"
    },
    {
     "data": {
      "image/png": "[encoded data removed]",
      "text/plain": [
       "<Figure size 432x288 with 1 Axes>"
      ]
     },
     "metadata": {
      "needs_background": "light"
     },
     "output_type": "display_data"
    }
   ],
   "source": [
    "plt.plot(2*ecos[0].spectral.x, strategies[1][96*180,1]@ecos[1].heat_kernels[0])"
   ]
  },
  {
   "cell_type": "code",
   "execution_count": 28,
   "metadata": {},
   "outputs": [],
   "source": [
    "ecos[0].water.res_counts = ecos[0].water.res_counts/10"
   ]
  },
  {
   "cell_type": "code",
   "execution_count": 29,
   "metadata": {},
   "outputs": [
    {
     "data": {
      "text/plain": [
       "(0.0, 1.0)"
      ]
     },
     "execution_count": 29,
     "metadata": {},
     "output_type": "execute_result"
    },
    {
     "data": {
      "image/png": "[encoded data removed]",
      "text/plain": [
       "<Figure size 432x288 with 1 Axes>"
      ]
     },
     "metadata": {
      "needs_background": "light"
     },
     "output_type": "display_data"
    }
   ],
   "source": [
    "plt.plot(ecos[0].spectral.x, lemke_optimizer(ecos[0])[0:60]@ecos[0].heat_kernels[0])\n",
    "plt.ylim((0,1))"
   ]
  },
  {
   "cell_type": "code",
   "execution_count": 30,
   "metadata": {},
   "outputs": [
    {
     "data": {
      "text/plain": [
       "[<matplotlib.lines.Line2D at 0x7faca9865190>]"
      ]
     },
     "execution_count": 30,
     "metadata": {},
     "output_type": "execute_result"
    },
    {
     "data": {
      "image/png": "[encoded data removed]",
      "text/plain": [
       "<Figure size 432x288 with 1 Axes>"
      ]
     },
     "metadata": {
      "needs_background": "light"
     },
     "output_type": "display_data"
    }
   ],
   "source": [
    "plt.plot(ecos[0].spectral.x, lemke_optimizer(ecos[0])[60:120]@ecos[0].heat_kernels[0])"
   ]
  },
  {
   "cell_type": "code",
   "execution_count": 31,
   "metadata": {},
   "outputs": [
    {
     "data": {
      "text/plain": [
       "[<matplotlib.lines.Line2D at 0x7faca95ea250>]"
      ]
     },
     "execution_count": 31,
     "metadata": {},
     "output_type": "execute_result"
    },
    {
     "data": {
      "image/png": "[encoded data removed]",
      "text/plain": [
       "<Figure size 432x288 with 1 Axes>"
      ]
     },
     "metadata": {
      "needs_background": "light"
     },
     "output_type": "display_data"
    }
   ],
   "source": [
    "plt.plot(ecos[0].spectral.x, resources[0][-1])"
   ]
  },
  {
   "cell_type": "code",
   "execution_count": 32,
   "metadata": {},
   "outputs": [
    {
     "data": {
      "text/plain": [
       "(17569, 2, 60)"
      ]
     },
     "execution_count": 32,
     "metadata": {},
     "output_type": "execute_result"
    }
   ],
   "source": [
    "strategies[0].shape"
   ]
  },
  {
   "cell_type": "code",
   "execution_count": 33,
   "metadata": {},
   "outputs": [
    {
     "data": {
      "image/png": "[encoded data removed]",
      "text/plain": [
       "<Figure size 340.157x340.157 with 6 Axes>"
      ]
     },
     "metadata": {
      "needs_background": "light"
     },
     "output_type": "display_data"
    }
   ],
   "source": [
    "heatmap_plotter([resources[0][10*96:11*96].T, resources[0][90*96:91*96].T, resources[0][180*96:181*96].T], \"resource_dist\", [-12, 12, 0, 100])"
   ]
  },
  {
   "cell_type": "code",
   "execution_count": 34,
   "metadata": {},
   "outputs": [
    {
     "data": {
      "image/png": "[encoded data removed]",
      "text/plain": [
       "<Figure size 340.157x340.157 with 6 Axes>"
      ]
     },
     "metadata": {
      "needs_background": "light"
     },
     "output_type": "display_data"
    }
   ],
   "source": [
    "heatmap_plotter([resources[1][10*96:11*96].T, resources[1][90*96:91*96].T, resources[1][180*96:181*96].T], \"resource_dist\", [-12, 12, 0, 100])"
   ]
  },
  {
   "cell_type": "code",
   "execution_count": 35,
   "metadata": {},
   "outputs": [
    {
     "data": {
      "image/png": "[encoded data removed]",
      "text/plain": [
       "<Figure size 340.157x340.157 with 2 Axes>"
      ]
     },
     "metadata": {
      "needs_background": "light"
     },
     "output_type": "display_data"
    }
   ],
   "source": [
    "heatmap_plotter([resources[0][10*96:11*96].T], \"resource_dist\", [0, 100, 0, 100])"
   ]
  },
  {
   "cell_type": "code",
   "execution_count": 36,
   "metadata": {},
   "outputs": [
    {
     "data": {
      "text/plain": [
       "[<matplotlib.lines.Line2D at 0x7faca9b65450>]"
      ]
     },
     "execution_count": 36,
     "metadata": {},
     "output_type": "execute_result"
    },
    {
     "data": {
      "image/png": "[encoded data removed]",
      "text/plain": [
       "<Figure size 432x288 with 1 Axes>"
      ]
     },
     "metadata": {
      "needs_background": "light"
     },
     "output_type": "display_data"
    }
   ],
   "source": [
    "plt.plot(np.linspace(-12,12,96), solar_levels[10*96:11*96])"
   ]
  },
  {
   "cell_type": "code",
   "execution_count": 37,
   "metadata": {},
   "outputs": [
    {
     "data": {
      "text/plain": [
       "[<matplotlib.lines.Line2D at 0x7faca8df80d0>]"
      ]
     },
     "execution_count": 37,
     "metadata": {},
     "output_type": "execute_result"
    },
    {
     "data": {
      "image/png": "[encoded data removed]",
      "text/plain": [
       "<Figure size 432x288 with 1 Axes>"
      ]
     },
     "metadata": {
      "needs_background": "light"
     },
     "output_type": "display_data"
    }
   ],
   "source": [
    "plt.plot(np.linspace(-12,12,96), solar_levels[90*96:91*96])"
   ]
  },
  {
   "cell_type": "code",
   "execution_count": 38,
   "metadata": {},
   "outputs": [
    {
     "data": {
      "text/plain": [
       "[<matplotlib.lines.Line2D at 0x7faca8e56850>]"
      ]
     },
     "execution_count": 38,
     "metadata": {},
     "output_type": "execute_result"
    },
    {
     "data": {
      "image/png": "[encoded data removed]",
      "text/plain": [
       "<Figure size 432x288 with 1 Axes>"
      ]
     },
     "metadata": {
      "needs_background": "light"
     },
     "output_type": "display_data"
    }
   ],
   "source": [
    "plt.plot(np.linspace(-12,12,96), solar_levels[180*96:181*96])"
   ]
  },
  {
   "cell_type": "code",
   "execution_count": 39,
   "metadata": {},
   "outputs": [
    {
     "data": {
      "text/plain": [
       "[<matplotlib.lines.Line2D at 0x7faca9db9690>]"
      ]
     },
     "execution_count": 39,
     "metadata": {},
     "output_type": "execute_result"
    },
    {
     "data": {
      "image/png": "[encoded data removed]",
      "text/plain": [
       "<Figure size 432x288 with 1 Axes>"
      ]
     },
     "metadata": {
      "needs_background": "light"
     },
     "output_type": "display_data"
    }
   ],
   "source": [
    "plt.plot(np.linspace(-12,12,96), solar_levels[180*96:181*96])"
   ]
  },
  {
   "cell_type": "code",
   "execution_count": 40,
   "metadata": {},
   "outputs": [
    {
     "data": {
      "image/png": "[encoded data removed]",
      "text/plain": [
       "<Figure size 340.157x340.157 with 4 Axes>"
      ]
     },
     "metadata": {
      "needs_background": "light"
     },
     "output_type": "display_data"
    },
    {
     "data": {
      "image/png": "[encoded data removed]",
      "text/plain": [
       "<Figure size 340.157x340.157 with 4 Axes>"
      ]
     },
     "metadata": {
      "needs_background": "light"
     },
     "output_type": "display_data"
    },
    {
     "data": {
      "image/png": "[encoded data removed]",
      "text/plain": [
       "<Figure size 340.157x340.157 with 4 Axes>"
      ]
     },
     "metadata": {
      "needs_background": "light"
     },
     "output_type": "display_data"
    }
   ],
   "source": [
    "bigge_heatmap_plotter(10, ecos[0], strategies[0]/2, fineness = 200, filename = \"day10_nonrandom\")\n",
    "bigge_heatmap_plotter(90, ecos[0], strategies[0]/2, fineness = 200, filename = \"day90_nonrandom\")\n",
    "bigge_heatmap_plotter(180, ecos[0], strategies[0]/2, fineness = 200, filename = \"day180_nonrandom\")"
   ]
  },
  {
   "cell_type": "code",
   "execution_count": null,
   "metadata": {},
   "outputs": [],
   "source": [
    "bigge_heatmap_plotter(10, ecos[1], strategies[1]/2, fineness = 200, filename = \"day10_semirandom\")\n",
    "bigge_heatmap_plotter(90, ecos[1], strategies[1]/2, fineness = 200, filename = \"day90_semirandom\")\n",
    "bigge_heatmap_plotter(180, ecos[1], strategies[1]/2, fineness = 200, filename = \"day180_semirandom\")"
   ]
  },
  {
   "cell_type": "code",
   "execution_count": null,
   "metadata": {},
   "outputs": [],
   "source": [
    "def short_term_plotter_population(days, eco, solar_levels, populations, resources, strats, filename = None, sigmas = [\"0\", \"10\", \"$\\infty$\"]):\n",
    "    day_interval = 96\n",
    "    fig, ax = plt.subplots(1, len(days), sharex='col', sharey = 'row')\n",
    "    fig.set_size_inches((12/2.54, 6/2.54))\n",
    "    times = [\"12 \", \"18\", \"24\", \"06\", \"12\"]\n",
    "\n",
    "    for j, day in enumerate(days):\n",
    "        \n",
    "        ax[j].plot(np.linspace(-12,12,day_interval), (populations[day*day_interval:day*day_interval+day_interval,0] - populations[day*day_interval,0])/populations[day*day_interval,0], color = tableau20[0], label = '20g fish')\n",
    "        ax[j].plot(np.linspace(-12,12,day_interval), (populations[day*day_interval:day*day_interval+day_interval,1] - populations[day*day_interval,1])/populations[day*day_interval,1], color = tableau20[6], label = '8000g fish')\n",
    "        \n",
    "        ax[j].set_xticks([-12,-6, 0, 6, 12]) #xaxis.set_major_locator(plt.MultipleLocator(4))\n",
    "        ax[j].set_xticklabels(times)\n",
    "\n",
    "        ax[j].set_xlabel(\"(\" + str(j+1) + \") \" + \"$\\sigma$ = \" + sigmas[j]+ \" m$^2$\")\n",
    "\n",
    "    ax[0].set_ylabel('$\\Delta$ Population/Total')\n",
    "\n",
    "    ax[-1].set_xlim((-12,12))\n",
    "    fig.tight_layout()\n",
    "    \n",
    "    plt.savefig(\"pop_short_\"+filename + \".pdf\")"
   ]
  },
  {
   "cell_type": "code",
   "execution_count": null,
   "metadata": {},
   "outputs": [],
   "source": [
    "import datetime"
   ]
  },
  {
   "cell_type": "code",
   "execution_count": null,
   "metadata": {},
   "outputs": [],
   "source": [
    "def short_term_plotter_pop_compare(day, populations, filename = None, sigmas = [\"0\", \"7\", \"$\\infty$\"]):\n",
    "    day_interval = 96\n",
    "    fig, ax = plt.subplots(1, len(populations), sharex='col', sharey = 'row')\n",
    "    fig.set_size_inches((12/2.54, 6/2.54))\n",
    "    times = [\"12 \", \"18\", \"24\", \"06\", \"12\"]\n",
    "\n",
    "    for j, population in enumerate(populations):\n",
    "        \n",
    "        ax[j].plot(np.linspace(-12,12,day_interval), (population[day*day_interval:day*day_interval+day_interval,0] - population[day*day_interval,0])/population[day*day_interval,0], color = tableau20[0], label = '20g fish')\n",
    "        ax[j].plot(np.linspace(-12,12,day_interval), (population[day*day_interval:day*day_interval+day_interval,1] - population[day*day_interval,1])/population[day*day_interval,1], color = tableau20[6], label = '8000g fish')\n",
    "\n",
    "        ax[j].set_xticks([-12,-6, 0, 6, 12]) #xaxis.set_major_locator(plt.MultipleLocator(4))\n",
    "        ax[j].set_xticklabels(times)\n",
    "        ax[j].set_xlabel(\"(\" + str(j+1) + \") \" + \"$\\sigma$ = \" + sigmas[j] + \" m$^2$\")\n",
    "\n",
    "    ax[0].set_ylabel('$\\Delta$ Population/Total')\n",
    "\n",
    "    ax[-1].set_xlim((-12,12))\n",
    "    fig.tight_layout()\n",
    "    plt.savefig(\"pop_dyn_comp_\"+filename + \".pdf\")"
   ]
  },
  {
   "cell_type": "code",
   "execution_count": null,
   "metadata": {},
   "outputs": [],
   "source": [
    "short_term_plotter_pop_compare(90, populations, \"full_semi_none\")"
   ]
  },
  {
   "cell_type": "code",
   "execution_count": null,
   "metadata": {},
   "outputs": [],
   "source": [
    "def short_term_plotter_growth(days, eco, solar_levels, populations, resources, strats, filename = None, day_name = [\"May 1\", \"July 1\", \"October 1\"]):\n",
    "    day_interval = 96\n",
    "    fig, ax = plt.subplots(1, len(days), sharex='col', sharey = 'row')\n",
    "    fig.set_size_inches((12/2.54, 6/2.54))\n",
    "    times = [\"12 \", \"18\", \"24\", \"06\", \"12\"]\n",
    "    for j, day in enumerate(days):\n",
    "        day_ind = int(day*day_interval)\n",
    "        eco_params_orig = ecosystem_parameters(eco.parameters.mass_vector, eco.spectral)\n",
    "        OG_layered_attack = eco_params_orig.layered_attack.copy()\n",
    "        flows = np.zeros((day_interval, 2))\n",
    "\n",
    "        flows_more_res = np.zeros((day_interval, 2))\n",
    "\n",
    "        for i in range(day_ind, day_ind+day_interval):\n",
    "            layered_attack = new_layer_attack(eco_params_orig, solar_levels[i],  k = 0.2)\n",
    "            T_G = graph_builder(eco, layered_attack = layered_attack, \n",
    "                          populations=populations[i], resources = resources[i],\n",
    "                          strategies = strats[i])\n",
    "            flows[i-(day_ind), 0] = T_G[1,0]\n",
    "            flows[i-(day_ind), 1] = T_G[2,1]\n",
    "            if np.abs(i-2928)<10**(-3):\n",
    "                print(T_G)\n",
    "            \n",
    "        ax[j].plot(np.linspace(-12,12,day_interval), flows[:,0], color = tableau20[0], label = '20g fish')\n",
    "        ax[j].plot(np.linspace(-12,12,day_interval), flows[:,1], color = tableau20[6], label = '8000g fish')\n",
    "        ax[j].set_xlabel(\"(\" + str(j+1) + \") \" + day_name[j])\n",
    "        ax[j].set_xticks([-12,-6, 0, 6, 12]) #xaxis.set_major_locator(plt.MultipleLocator(4))\n",
    "        ax[j].set_xticklabels(times)\n",
    "\n",
    "        \n",
    "    ax[0].set_ylabel('Growth, g $\\cdot$ year$^{-1}$')\n",
    "\n",
    "    ax[-1].set_xlim((-12,12))\n",
    "    fig.tight_layout()\n",
    "    plt.savefig(\"growth_short_\"+filename + \".pdf\")"
   ]
  },
  {
   "cell_type": "code",
   "execution_count": null,
   "metadata": {},
   "outputs": [],
   "source": [
    "short_term_plotter_population([30, 90, 180], ecos[0], solar_levels, populations[0], resources[0], strategies[0], filename = \"rational\")"
   ]
  },
  {
   "cell_type": "code",
   "execution_count": null,
   "metadata": {},
   "outputs": [],
   "source": [
    "short_term_plotter_growth([30, 90, 180], ecos[0], solar_levels, populations[0], resources[0], strategies[0], filename = \"rational\")"
   ]
  },
  {
   "cell_type": "code",
   "execution_count": null,
   "metadata": {},
   "outputs": [],
   "source": [
    "short_term_plotter_population([30, 90, 180], ecos[1], solar_levels, populations[1], resources[1], strategies[1], filename=\"semi_rational\")"
   ]
  },
  {
   "cell_type": "code",
   "execution_count": null,
   "metadata": {},
   "outputs": [],
   "source": [
    "short_term_plotter_population([30, 90, 180], ecos[0], solar_levels, populations[2], resources[2], strategies[2], filename = \"irrational\")"
   ]
  },
  {
   "cell_type": "code",
   "execution_count": null,
   "metadata": {},
   "outputs": [],
   "source": [
    "new_spectral_obj = spectral_method(30, 120, segments = 1)"
   ]
  },
  {
   "cell_type": "code",
   "execution_count": null,
   "metadata": {},
   "outputs": [],
   "source": [
    "for i in range(day,day+day_interval):\n",
    "    plt.figure(figsize=(4,4))\n",
    "    plt.title(\"Sunlight:\" + str(1/2*(1+min(max((2+1)*np.cos(i*2*np.pi/day_interval), -1), 1))))\n",
    "    plt.plot(eco.spectral.x*3.3, np.diff(np.cumsum(eco.spectral.M @ (strategies[i][0]@eco.heat_kernels[0])), prepend = np.array([0])), color = 'blue')\n",
    "    plt.plot(eco.spectral.x*3.3, np.diff(np.cumsum(eco.spectral.M @ (strategies[i][1]@eco.heat_kernels[0])), prepend = np.array([0])), color = 'red')\n",
    "    plt.plot(eco.spectral.x*3.3,  np.diff(np.cumsum(eco.spectral.M @ resources[i]) , append = np.array([0])))\n",
    "    plt.ylim((0,1))\n",
    "    plt.savefig(\"images/images\" + str(i) +\".jpg\")\n",
    "\n",
    "    plt.close()"
   ]
  },
  {
   "cell_type": "code",
   "execution_count": null,
   "metadata": {},
   "outputs": [],
   "source": [
    "with imgio.get_writer(gif_path, mode='I', fps = 5) as writer:\n",
    "    for i in range(day, day+day_interval):\n",
    "        writer.append_data(imgio.imread(frames_path.format(i=i)))"
   ]
  },
  {
   "cell_type": "code",
   "execution_count": null,
   "metadata": {},
   "outputs": [],
   "source": [
    "LD_LA = np.zeros((eco.spectral.n, m_a))\n",
    "for i in range(day,day+day_interval):\n",
    "    LD_LA[:, i-(day)] = periodic_layers[i-(day)][:,1,0]\n",
    "heatmap_plotter([LD_LA], \"heatmaps_LA\", [0, 24, -100, 0])"
   ]
  },
  {
   "cell_type": "code",
   "execution_count": null,
   "metadata": {},
   "outputs": [],
   "source": [
    "plt.plot(np.log10(np.sum(np.array(resources) @ eco.spectral.M, axis = 1)))"
   ]
  },
  {
   "cell_type": "code",
   "execution_count": null,
   "metadata": {},
   "outputs": [],
   "source": [
    "plt.plot(eco.water.res_counts)"
   ]
  },
  {
   "cell_type": "code",
   "execution_count": null,
   "metadata": {},
   "outputs": [],
   "source": [
    "np.sum(theoretical_max @ eco.spectral.M)"
   ]
  }
 ],
 "metadata": {
  "kernelspec": {
   "display_name": "Python 3",
   "language": "python",
   "name": "python3"
  },
  "language_info": {
   "codemirror_mode": {
    "name": "ipython",
    "version": 3
   },
   "file_extension": ".py",
   "mimetype": "text/x-python",
   "name": "python",
   "nbconvert_exporter": "python",
   "pygments_lexer": "ipython3",
   "version": "3.7.8"
  }
 },
 "nbformat": 4,
 "nbformat_minor": 2
}
